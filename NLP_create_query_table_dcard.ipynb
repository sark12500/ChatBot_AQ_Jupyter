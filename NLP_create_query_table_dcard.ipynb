{
 "cells": [
  {
   "cell_type": "code",
   "execution_count": 2,
   "metadata": {},
   "outputs": [],
   "source": [
    "# encoding=UTF-8\n",
    "# !flask/bin/python\n",
    "\n",
    "from cassandra.cluster import Cluster\n",
    "from cassandra.policies import DCAwareRoundRobinPolicy\n",
    "from cassandra.auth import PlainTextAuthProvider\n",
    "from cassandra.query import BatchStatement\n",
    "import pandas as pd\n",
    "\n",
    "\n",
    "class CassandraType(object):\n",
    "    PRODUCTION = 0\n",
    "    TEST = 1\n",
    "    TEST_DOCKER = 2\n",
    "\n",
    "\n",
    "class CassandraDAO(object):\n",
    "\n",
    "    # you have to install following items :\n",
    "    # a. python-Cassandra driver\n",
    "    # b. pyspark cassandra connector\n",
    "\n",
    "    def __init__(self, type):\n",
    "        #         print('runing father.__init__')\n",
    "        if type == CassandraType.PRODUCTION:\n",
    "            self.contact_points = ['192.168.95.127', '192.168.95.122']\n",
    "            self.contact_points_str = \"192.168.95.127,192.168.95.122\"\n",
    "        elif type == CassandraType.TEST:\n",
    "            self.contact_points = ['192.168.0.41', '192.168.0.42']\n",
    "            self.contact_points_str = \"192.168.0.41,192.168.0.42\"\n",
    "        else:\n",
    "            self.contact_points = ['192.168.0.121', '192.168.0.122', '192.168.0.52']\n",
    "            self.contact_points_str = \"192.168.0.121,192.168.0.122,192.168.0.52\"\n",
    "\n",
    "        self.formatString = \"org.apache.spark.sql.cassandra\"\n",
    "        self.username = \"username\"\n",
    "        self.password = \"password\"\n",
    "        self.cluster = None\n",
    "        self.session = None\n",
    "        self.createSession()\n",
    "\n",
    "    def __del__(self):\n",
    "        self.cluster.shutdown()\n",
    "\n",
    "    def pandas_factory(self, colnames, rows):\n",
    "        return pd.DataFrame(rows, columns=colnames)\n",
    "\n",
    "    def createSession(self):\n",
    "        print \"contact_points = \" + self.contact_points_str\n",
    "        self.cluster = Cluster(\n",
    "            contact_points=self.contact_points,  # random select a node\n",
    "            #             load_balancing_policy = DCAwareRoundRobinPolicy(local_dc='datacenter1'),\n",
    "            #         auth_provider = PlainTextAuthProvider(username='cassandra', password='cassandra')\n",
    "        )\n",
    "        self.session = self.cluster.connect()\n",
    "        self.session.row_factory = self.pandas_factory\n",
    "        self.session.default_fetch_size = 10000000  # needed for large queries, otherwise driver will do pagination. Default is 50000.\n",
    "\n",
    "    def getSession(self):\n",
    "        return self.session\n",
    "\n",
    "    def execCQL(self, keyspace, cql):\n",
    "        \"\"\"\n",
    "        execute CQL\n",
    "        \"\"\"\n",
    "        self.session.set_keyspace(keyspace)\n",
    "        self.session.execute_async(cql)\n",
    "\n",
    "    def execCQLSelect(self, keyspace, cql):\n",
    "        \"\"\"\n",
    "        execute CQL, select only\n",
    "        \"\"\"\n",
    "\n",
    "        self.session.set_keyspace(keyspace)\n",
    "\n",
    "        #       cassandra ResultSet\n",
    "        async_results = self.session.execute_async(cql)\n",
    "        return async_results\n",
    "\n",
    "    def execCQLCallBackAnysc(self, keyspace, cql, handle_success, handle_error):\n",
    "        \"\"\"\n",
    "        execute CQL, if success => handle_success function, else handle_error\n",
    "        \"\"\"\n",
    "        self.session.set_keyspace(keyspace)\n",
    "        async_results = self.session.execute_async(cql)\n",
    "        async_results.add_callbacks(handle_success, handle_error)\n",
    "\n",
    "    def execCQLSelectToPandasDF(self, keyspace, cql):\n",
    "        \"\"\"\n",
    "        execute CQL, select only, return Pandas DataFrame\n",
    "        \"\"\"\n",
    "\n",
    "        self.session.set_keyspace(keyspace)\n",
    "\n",
    "        #       cassandra ResultSet\n",
    "        async_results = self.session.execute_async(cql)\n",
    "        #         async_results = self.session.execute_async(cql)\n",
    "        #       to Pandas DataFrame\n",
    "        return async_results.result()._current_rows\n",
    "\n",
    "\n",
    "    def execCQLSelectToRDD(self, sqlContext, keyspace, cql):\n",
    "        \"\"\"\n",
    "        execute CQL, select only, return Spark RDD\n",
    "        \"\"\"\n",
    "\n",
    "        return self.execCQLSelectToDF(sqlContext, keyspace, cql).rdd.map(tuple)  # dataFrame to RDD\n",
    "\n",
    "    @property\n",
    "    def contactPoints(self):\n",
    "        return self.contact_points\n",
    "\n",
    "    @contactPoints.setter\n",
    "    def contactPoints(self, contact_points):\n",
    "        self.contact_points = contact_points\n",
    "\n",
    "    @contactPoints.deleter\n",
    "    def contactPoints(self):\n",
    "        del self.contact_points\n"
   ]
  },
  {
   "cell_type": "code",
   "execution_count": 23,
   "metadata": {},
   "outputs": [],
   "source": [
    "import regex as re\n",
    "import pandas as pd"
   ]
  },
  {
   "cell_type": "code",
   "execution_count": 242,
   "metadata": {},
   "outputs": [
    {
     "name": "stdout",
     "output_type": "stream",
     "text": [
      "contact_points = 192.168.0.121,192.168.0.122,192.168.0.52\n"
     ]
    }
   ],
   "source": [
    "HELPER_KEYSPACE = 'nlp_keyspace'\n",
    "DCARD_ARTICLE_TABLE = 'dcard_article'\n",
    "DCARD_RESPONSE_TABLE = 'dcard_response'\n",
    "DCARD_ARTICLE_TEST_TABLE = 'dcard_article_test'\n",
    "WORD_ARTICLE_MAPPING = 'word_article_mapping'\n",
    "DCARD_QUERY_TABLE = 'dcard_query_table'\n",
    "dao = CassandraDAO('BACKUP')"
   ]
  },
  {
   "cell_type": "code",
   "execution_count": 311,
   "metadata": {},
   "outputs": [],
   "source": [
    "article_id = 228078922"
   ]
  },
  {
   "cell_type": "markdown",
   "metadata": {},
   "source": [
    "# question cleaning"
   ]
  },
  {
   "cell_type": "code",
   "execution_count": 312,
   "metadata": {},
   "outputs": [
    {
     "data": {
      "text/html": [
       "<div>\n",
       "<table border=\"1\" class=\"dataframe\">\n",
       "  <thead>\n",
       "    <tr style=\"text-align: right;\">\n",
       "      <th></th>\n",
       "      <th>article_id</th>\n",
       "      <th>board</th>\n",
       "      <th>category</th>\n",
       "      <th>content</th>\n",
       "      <th>crawl_date</th>\n",
       "      <th>create_date</th>\n",
       "      <th>question_type</th>\n",
       "      <th>title</th>\n",
       "    </tr>\n",
       "  </thead>\n",
       "  <tbody>\n",
       "    <tr>\n",
       "      <th>0</th>\n",
       "      <td>228078922</td>\n",
       "      <td>talk</td>\n",
       "      <td>None</td>\n",
       "      <td>不知道各位有沒有這樣的感覺，很多碩博班學生受到某些失職的教授“奴役”，這些學生超時工作、不合...</td>\n",
       "      <td>2019-02-20 03:14:04.855</td>\n",
       "      <td>2018-01-07T06:43:29.108Z</td>\n",
       "      <td>None</td>\n",
       "      <td>碩博生心聲 — 老闆決定一切</td>\n",
       "    </tr>\n",
       "  </tbody>\n",
       "</table>\n",
       "</div>"
      ],
      "text/plain": [
       "   article_id board category  \\\n",
       "0   228078922  talk     None   \n",
       "\n",
       "                                             content              crawl_date  \\\n",
       "0  不知道各位有沒有這樣的感覺，很多碩博班學生受到某些失職的教授“奴役”，這些學生超時工作、不合... 2019-02-20 03:14:04.855   \n",
       "\n",
       "                create_date question_type           title  \n",
       "0  2018-01-07T06:43:29.108Z          None  碩博生心聲 — 老闆決定一切  "
      ]
     },
     "execution_count": 312,
     "metadata": {},
     "output_type": "execute_result"
    }
   ],
   "source": [
    "cql = 'select * from ' + DCARD_ARTICLE_TABLE + \" where article_id =\" + str(article_id) + \";\"\n",
    "## select range\n",
    "# cql = (\"select * from nlp_keyspace.dcard_article_test \" +\n",
    "#         \"where article_id > 225705809 and article_id < 225800010 allow filtering;\")\n",
    "a_df = dao.execCQLSelectToPandasDF(HELPER_KEYSPACE, cql)\n",
    "a_df"
   ]
  },
  {
   "cell_type": "code",
   "execution_count": 313,
   "metadata": {},
   "outputs": [
    {
     "data": {
      "text/html": [
       "<div>\n",
       "<table border=\"1\" class=\"dataframe\">\n",
       "  <thead>\n",
       "    <tr style=\"text-align: right;\">\n",
       "      <th></th>\n",
       "      <th>article_id</th>\n",
       "      <th>board</th>\n",
       "      <th>category</th>\n",
       "      <th>content</th>\n",
       "      <th>crawl_date</th>\n",
       "      <th>create_date</th>\n",
       "      <th>question_type</th>\n",
       "      <th>title</th>\n",
       "      <th>question</th>\n",
       "    </tr>\n",
       "  </thead>\n",
       "  <tbody>\n",
       "    <tr>\n",
       "      <th>0</th>\n",
       "      <td>228078922</td>\n",
       "      <td>talk</td>\n",
       "      <td>None</td>\n",
       "      <td>不知道各位有沒有這樣的感覺，很多碩博班學生受到某些失職的教授“奴役”，這些學生超時工作、不合...</td>\n",
       "      <td>2019-02-20 03:14:04.855</td>\n",
       "      <td>2018-01-07T06:43:29.108Z</td>\n",
       "      <td>None</td>\n",
       "      <td>碩博生心聲 — 老闆決定一切</td>\n",
       "      <td>碩博生心聲 — 老闆決定一切</td>\n",
       "    </tr>\n",
       "  </tbody>\n",
       "</table>\n",
       "</div>"
      ],
      "text/plain": [
       "   article_id board category  \\\n",
       "0   228078922  talk     None   \n",
       "\n",
       "                                             content              crawl_date  \\\n",
       "0  不知道各位有沒有這樣的感覺，很多碩博班學生受到某些失職的教授“奴役”，這些學生超時工作、不合... 2019-02-20 03:14:04.855   \n",
       "\n",
       "                create_date question_type           title        question  \n",
       "0  2018-01-07T06:43:29.108Z          None  碩博生心聲 — 老闆決定一切  碩博生心聲 — 老闆決定一切  "
      ]
     },
     "execution_count": 313,
     "metadata": {},
     "output_type": "execute_result"
    }
   ],
   "source": [
    "def remove_question_tag(row):\n",
    "    question = row['title']\n",
    "    question = re.sub(u\"\\\\(.*?\\\\)|\\\\{.*?}|\\\\[.*?]|\\\\（.*?）|\\\\【.*?】|\\\\#.*? |\\\\#.*?#\", u\"\", question)\n",
    "    question = re.sub(u'(Re:|re:)', u'', question)\n",
    "    return question\n",
    "\n",
    "a_df['question'] = a_df.apply(remove_question_tag, axis=1)\n",
    "# 去除 question 爲空 的 row\n",
    "mask = (~(a_df['question'] == ''))\n",
    "a_df = a_df[mask]\n",
    "a_df"
   ]
  },
  {
   "cell_type": "code",
   "execution_count": 314,
   "metadata": {},
   "outputs": [
    {
     "data": {
      "text/html": [
       "<div>\n",
       "<table border=\"1\" class=\"dataframe\">\n",
       "  <thead>\n",
       "    <tr style=\"text-align: right;\">\n",
       "      <th></th>\n",
       "      <th>article_id</th>\n",
       "      <th>board</th>\n",
       "      <th>question</th>\n",
       "    </tr>\n",
       "  </thead>\n",
       "  <tbody>\n",
       "    <tr>\n",
       "      <th>0</th>\n",
       "      <td>228078922</td>\n",
       "      <td>talk</td>\n",
       "      <td>碩博生心聲 — 老闆決定一切</td>\n",
       "    </tr>\n",
       "  </tbody>\n",
       "</table>\n",
       "</div>"
      ],
      "text/plain": [
       "   article_id board        question\n",
       "0   228078922  talk  碩博生心聲 — 老闆決定一切"
      ]
     },
     "execution_count": 314,
     "metadata": {},
     "output_type": "execute_result"
    }
   ],
   "source": [
    "a_df = a_df.drop(['category', 'content', 'crawl_date', 'create_date', 'question_type', 'title'], axis=1)\n",
    "a_df"
   ]
  },
  {
   "cell_type": "markdown",
   "metadata": {},
   "source": [
    "# response cleaning"
   ]
  },
  {
   "cell_type": "code",
   "execution_count": 317,
   "metadata": {
    "scrolled": true
   },
   "outputs": [
    {
     "data": {
      "text/html": [
       "<div>\n",
       "<table border=\"1\" class=\"dataframe\">\n",
       "  <thead>\n",
       "    <tr style=\"text-align: right;\">\n",
       "      <th></th>\n",
       "      <th>article_id</th>\n",
       "      <th>floor</th>\n",
       "      <th>response</th>\n",
       "      <th>crawl_date</th>\n",
       "      <th>create_date</th>\n",
       "      <th>like_count</th>\n",
       "    </tr>\n",
       "  </thead>\n",
       "  <tbody>\n",
       "  </tbody>\n",
       "</table>\n",
       "</div>"
      ],
      "text/plain": [
       "Empty DataFrame\n",
       "Columns: [article_id, floor, response, crawl_date, create_date, like_count]\n",
       "Index: []"
      ]
     },
     "execution_count": 317,
     "metadata": {},
     "output_type": "execute_result"
    }
   ],
   "source": [
    "cql = 'select * from ' + DCARD_RESPONSE_TABLE + \" where article_id =\" + str(article_id) + \";\"\n",
    "## select range\n",
    "# cql = (\"select * from nlp_keyspace.dcard_article_test \" +\n",
    "#         \"where article_id > 225705809 and article_id < 225800010 allow filtering;\")\n",
    "r_df = dao.execCQLSelectToPandasDF(HELPER_KEYSPACE, cql)\n",
    "r_df = r_df.rename(index=str, columns={\"content\": \"response\"})\n",
    "r_df"
   ]
  },
  {
   "cell_type": "code",
   "execution_count": 318,
   "metadata": {
    "scrolled": true
   },
   "outputs": [],
   "source": [
    "def has_url(row):\n",
    "\n",
    "    rule = 'http://\\S+|https://\\S+'\n",
    "    pattern = re.compile(rule)\n",
    "    match = pattern.search(row['response'])\n",
    "    if match:  \n",
    "       return True \n",
    "\n",
    "#     rule = '(.png|.jpg|.jpeg|.gif|.svg|.txt)'\n",
    "#     pattern = re.compile(rule)\n",
    "#     match = pattern.search(row['content'])\n",
    "#     if match:  \n",
    "#        return True \n",
    "    \n",
    "    return False\n",
    "\n",
    "# r_df['has_url'] = r_df.apply(has_url, axis=1)\n",
    "# # 去除has_url的row\n",
    "# mask = (~(r_df['has_url']))\n",
    "# r_df = r_df[mask]\n",
    "# r_df"
   ]
  },
  {
   "cell_type": "code",
   "execution_count": 319,
   "metadata": {
    "scrolled": true
   },
   "outputs": [],
   "source": [
    "# 過濾 response有回答floor EX:B1,B3......\n",
    "def has_floor_tag(row):\n",
    "\n",
    "    rule = '(B[\\d+]|b[\\d+]|[\\d+]F|[\\d+]樓)'\n",
    "    pattern = re.compile(rule)\n",
    "    match = pattern.search(row['response'])\n",
    "    if match:  \n",
    "        return True \n",
    "\n",
    "    return False\n",
    "\n",
    "# r_df['has_floor'] = r_df.apply(has_floor_tag, axis=1)\n",
    "# # 去除has_floor的row\n",
    "# mask = (~(r_df['has_floor']))\n",
    "# r_df = r_df[mask]\n",
    "# r_df"
   ]
  },
  {
   "cell_type": "code",
   "execution_count": 322,
   "metadata": {},
   "outputs": [],
   "source": [
    "if len(r_df) > 0 :\n",
    "    \n",
    "    # 去除has_url的row\n",
    "    r_df['has_url'] = r_df.apply(has_url, axis=1)\n",
    "    mask = (~(r_df['has_url']))\n",
    "    r_df = r_df[mask]\n",
    "    \n",
    "    # 去除has_floor的row\n",
    "    r_df['has_floor'] = r_df.apply(has_floor_tag, axis=1)\n",
    "    mask = (~(r_df['has_floor']))\n",
    "    r_df = r_df[mask]\n",
    "\n",
    "    r_df = r_df.drop(['crawl_date', 'create_date', 'has_url', 'has_floor'], axis=1)\n",
    "else:\n",
    "    r_df = r_df.drop(['crawl_date', 'create_date',], axis=1)"
   ]
  },
  {
   "cell_type": "code",
   "execution_count": null,
   "metadata": {},
   "outputs": [],
   "source": [
    "# # test no response\n",
    "# import numpy as np\n",
    "# columns = ['article_id', 'floor', 'response', 'like_count']\n",
    "# empty_df = pd.DataFrame({}, columns =columns)\n",
    "# empty_df"
   ]
  },
  {
   "cell_type": "markdown",
   "metadata": {},
   "source": [
    "# create query table"
   ]
  },
  {
   "cell_type": "code",
   "execution_count": 323,
   "metadata": {
    "scrolled": true
   },
   "outputs": [
    {
     "name": "stdout",
     "output_type": "stream",
     "text": [
      "0\n",
      "0\n",
      "len(ans_df) = 0\n"
     ]
    },
    {
     "data": {
      "text/html": [
       "<div>\n",
       "<table border=\"1\" class=\"dataframe\">\n",
       "  <thead>\n",
       "    <tr style=\"text-align: right;\">\n",
       "      <th></th>\n",
       "      <th>article_id</th>\n",
       "      <th>board</th>\n",
       "      <th>question</th>\n",
       "      <th>floor</th>\n",
       "      <th>response</th>\n",
       "      <th>like_count</th>\n",
       "    </tr>\n",
       "  </thead>\n",
       "  <tbody>\n",
       "  </tbody>\n",
       "</table>\n",
       "</div>"
      ],
      "text/plain": [
       "Empty DataFrame\n",
       "Columns: [article_id, board, question, floor, response, like_count]\n",
       "Index: []"
      ]
     },
     "execution_count": 323,
     "metadata": {},
     "output_type": "execute_result"
    }
   ],
   "source": [
    "from math import isnan\n",
    "ans_df = pd.merge(a_df, r_df, how='left', on='article_id')\n",
    "ans_df = ans_df.dropna()\n",
    "print len(ans_df)\n",
    "ans_df = ans_df[ans_df['response'].str.len() <= 40]\n",
    "print len(ans_df)\n",
    "ans_df = ans_df.sort_values(by=['like_count'], ascending=False)\n",
    "\n",
    "print 'len(ans_df) = ' + str(len(ans_df))\n",
    "ans_df"
   ]
  },
  {
   "cell_type": "code",
   "execution_count": null,
   "metadata": {},
   "outputs": [],
   "source": [
    "# like_count 分群\n",
    "top = int(len(ans_df)*0.25)\n",
    "ans_df.head(top)"
   ]
  },
  {
   "cell_type": "code",
   "execution_count": null,
   "metadata": {},
   "outputs": [],
   "source": [
    "for index, row in ans_df.iterrows():\n",
    "    \n",
    "    cql = (\"insert into \" + DCARD_QUERY_TABLE +\n",
    "           \"(article_id, floor, board, question, response, like_count) \" + \n",
    "           \"values(\" + str(row['article_id']) + \",\" + str(row['floor']) + \",'\" + \n",
    "           row['board'] + \"','\" + row['question'] + \"','\" + row['response'] + \"',\" +\n",
    "           str(row['like_count']) + \");\")\n",
    "    print cql\n",
    "#     dao.execCQL(HELPER_KEYSPACE, cql)"
   ]
  }
 ],
 "metadata": {
  "kernelspec": {
   "display_name": "Python 2",
   "language": "python",
   "name": "python2"
  },
  "language_info": {
   "codemirror_mode": {
    "name": "ipython",
    "version": 2
   },
   "file_extension": ".py",
   "mimetype": "text/x-python",
   "name": "python",
   "nbconvert_exporter": "python",
   "pygments_lexer": "ipython2",
   "version": "2.7.13"
  }
 },
 "nbformat": 4,
 "nbformat_minor": 2
}
