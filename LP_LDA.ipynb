{
 "cells": [
  {
   "cell_type": "code",
   "execution_count": null,
   "metadata": {},
   "outputs": [],
   "source": [
    "import numpy\n",
    "numpy.version.version"
   ]
  },
  {
   "cell_type": "code",
   "execution_count": null,
   "metadata": {},
   "outputs": [],
   "source": [
    "from gensim.corpora import MmCorpus\n",
    "from gensim.models.ldamodel import LdaModel"
   ]
  },
  {
   "cell_type": "code",
   "execution_count": null,
   "metadata": {},
   "outputs": [],
   "source": [
    "dictionary = Dictionary.load(\"/home/charles/dataset/tfidf_model/tfidf_corpus_dict\")\n",
    "mm = MmCorpus('/home/charles/dataset/tfidf_model/tfidf_corpuse.mm')"
   ]
  },
  {
   "cell_type": "code",
   "execution_count": null,
   "metadata": {},
   "outputs": [],
   "source": [
    "# document = \"This is some document...\"\n",
    "# load id->word mapping (the dictionary)\n",
    "# id2word = load_from_text('wiki_en_wordids.txt')\n",
    "# load corpus iterator\n",
    "\n",
    "# mm = MmCorpus('/home/charles/dataset/tfidf_model/tfidf_corpuse.mm') #wiki_en_tfidf.mm\n",
    "# extract 100 LDA topics, updating once every 10,000\n",
    "# lda = LdaModel(corpus=mm, id2word=dictionary, num_topics=100, update_every=1, chunksize=10000, passes=1)\n",
    "lda = LdaModel(corpus=corpus, id2word=dictionary, num_topics=100)\n"
   ]
  },
  {
   "cell_type": "code",
   "execution_count": null,
   "metadata": {},
   "outputs": [],
   "source": [
    "# # 打印前20个topic的词分布\n",
    "# lda.print_topics(20)\n",
    "# 打印id为20的topic的词分布\n",
    "print lda.print_topic(20)"
   ]
  },
  {
   "cell_type": "code",
   "execution_count": null,
   "metadata": {},
   "outputs": [],
   "source": [
    "# # 打印前20个topic的词分布\n",
    "# lda.print_topics(20)\n",
    "# # 打印id为20的topic的词分布\n",
    "# lda.print_topic(20)\n",
    "\n",
    "# use LDA model: transform new doc to bag-of-words, then apply lda\n",
    "# doc_bow = doc2bow(document.split())\n",
    "# doc_lda = lda[doc_bow]\n",
    "# doc_lda is vector of length num_topics representing weighted presence of each topic in the doc\n",
    "\n",
    "test_cut_raw_0 =pseg.lcut('今天天氣如何？')\n",
    "text_subject_dict={}\n",
    "for w,n in test_cut_raw_0:\n",
    "    print w + ' (' + n + ')'\n",
    "    text_subject_dict.update({w:n})\n",
    "\n",
    "# jieba分词语料集 去除停用词\n",
    "corpus0 = []\n",
    "#     # load stopwords set\n",
    "#     stopword_set = set()\n",
    "#     with open(jieba_stopwords_path,'r') as stopwords:\n",
    "#         for stopword in stopwords:\n",
    "#             stopword_set.add(stopword.strip('\\n').decode('utf8'))\n",
    "for w,n in test_cut_raw_0:\n",
    "    if w not in stopword_set:\n",
    "        corpus0.append(w)\n",
    "test_corpus_0 = dictionary.doc2bow(corpus0)\n",
    "test_corpus_0\n",
    "test_corpus_tfidf_0 = lda[test_corpus_0]\n",
    "test_corpus_tfidf_0"
   ]
  },
  {
   "cell_type": "code",
   "execution_count": null,
   "metadata": {},
   "outputs": [],
   "source": [
    "test_doc = list(jieba.cut(u'請問今天下雨嗎？'))#新文档进行分词\n",
    "test_doc"
   ]
  }
 ],
 "metadata": {
  "kernelspec": {
   "display_name": "Python 2",
   "language": "python",
   "name": "python2"
  },
  "language_info": {
   "codemirror_mode": {
    "name": "ipython",
    "version": 2
   },
   "file_extension": ".py",
   "mimetype": "text/x-python",
   "name": "python",
   "nbconvert_exporter": "python",
   "pygments_lexer": "ipython2",
   "version": "2.7.13"
  }
 },
 "nbformat": 4,
 "nbformat_minor": 2
}
