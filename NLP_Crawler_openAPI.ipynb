{
 "cells": [
  {
   "cell_type": "markdown",
   "metadata": {},
   "source": [
    "# wiki search"
   ]
  },
  {
   "cell_type": "code",
   "execution_count": 4,
   "metadata": {},
   "outputs": [],
   "source": [
    "import requests\n",
    "from bs4 import BeautifulSoup"
   ]
  },
  {
   "cell_type": "code",
   "execution_count": 41,
   "metadata": {},
   "outputs": [],
   "source": [
    "# query = \"SBL\"\n",
    "# url = (\"https://zh.wikipedia.org/w/api.php?action=query&list=search&srsearch=\"+query+\n",
    "#          \"&format=json&formatversion=2\")    \n",
    "# response = requests.post(url)\n",
    "# if response.status_code == requests.codes.ok:\n",
    "#     result = response.json()\n",
    "#     search_list = result[\"query\"][\"search\"]\n",
    "    \n",
    "#     if len(search_list) > 0 and\\\n",
    "#         search_list[0].has_key(\"snippet\") and\\\n",
    "#         search_list[0][\"snippet\"]:\n",
    "#         snippet = search_list[0][\"snippet\"]\n",
    "#         snippet = re.sub(r'</?\\w+[^>]*>','',snippet)\n",
    "#         print snippet"
   ]
  },
  {
   "cell_type": "code",
   "execution_count": 54,
   "metadata": {},
   "outputs": [],
   "source": [
    "def wiki_query_list(query, lang):\n",
    "    url = (\"https://\"+lang+\".wikipedia.org/w/api.php?action=opensearch&search=\"+query+\"&utf8\")    \n",
    "    response = requests.post(url)\n",
    "    if response.status_code == requests.codes.ok:\n",
    "        result = response.json()\n",
    "    #     print result[0]\n",
    "        if len(result[2]) == 0:\n",
    "            return None\n",
    "        \n",
    "        content = result[2][0]\n",
    "        if content == u\"\" or u\"重定向\" in content:  \n",
    "            print 'redirect'\n",
    "            return None\n",
    "        \n",
    "        return content"
   ]
  },
  {
   "cell_type": "code",
   "execution_count": 86,
   "metadata": {},
   "outputs": [],
   "source": [
    "def wiki_query_snippet(query, lang):\n",
    "    url = (\"https://\"+lang+\".wikipedia.org/w/api.php?action=query&list=search&srsearch=\"+query+\n",
    "             \"&format=json&formatversion=2\")    \n",
    "    response = requests.post(url)\n",
    "    if response.status_code == requests.codes.ok:\n",
    "        result = response.json()\n",
    "        search_list = result[\"query\"][\"search\"]\n",
    "\n",
    "        if len(search_list) > 0 and\\\n",
    "            search_list[0].has_key(\"snippet\") and\\\n",
    "            search_list[0][\"snippet\"]:\n",
    "            snippet = search_list[0][\"snippet\"]\n",
    "            snippet = snippet.split(u'。')[0]\n",
    "            snippet = re.sub(r'</?\\w+[^>]*>','',snippet)+u'。'\n",
    "            return snippet\n",
    "    \n",
    "    return None"
   ]
  },
  {
   "cell_type": "code",
   "execution_count": 60,
   "metadata": {},
   "outputs": [],
   "source": [
    "# snippet = \"臺北（臺灣話：Tâi-pak，俗體字書寫作台北）是臺灣的地理名詞，詞義為「臺灣為中心發展的都市。 「臺北\"\n",
    "# snippet_list = snippet.split('。')\n",
    "# for i in snippet_list:\n",
    "#     print i"
   ]
  },
  {
   "cell_type": "code",
   "execution_count": 84,
   "metadata": {},
   "outputs": [],
   "source": [
    "def wiki_query(query):\n",
    "    \n",
    "    def check_contain_chinese(query):\n",
    "        \n",
    "        for ch in query:\n",
    "            if u'\\u4e00' <= ch <= u'\\u9fff':\n",
    "                return True\n",
    "        return False\n",
    "    \n",
    "    if type(query) is not unicode:\n",
    "        query = query.decode('utf-8')\n",
    "    \n",
    "    if check_contain_chinese(query):\n",
    "        lang = 'zh'\n",
    "    else:\n",
    "        lang = 'en'\n",
    "   \n",
    "    for result in [wiki_query_list(query, lang), \n",
    "                   wiki_query_snippet(query, lang)]:\n",
    "        if result:\n",
    "            return result\n",
    "    return None"
   ]
  },
  {
   "cell_type": "code",
   "execution_count": 81,
   "metadata": {},
   "outputs": [
    {
     "name": "stdout",
     "output_type": "stream",
     "text": [
      "Baseball is a bat-and-ball game played between two opposing teams who take turns batting and fielding.\n",
      "---------------\n",
      "A cup is an open-top container used to hold liquids for pouring or drinking; it also can be used to store solids for pouring (e.g., sugar, flour, grains).\n",
      "---------------\n",
      "蔡依林（英语：Jolin Tsai，1980年9月15日－），出生於臺灣臺北縣新莊市（今新北市新莊區），是亞洲著名華語流行音樂女歌手。蔡依林因不斷革新其音樂風格與視覺形象而聞名，被視為推動舞曲成為大中華區主流流行音樂的重要人物，其如今完全主導於音樂事業上的方向與步驟，高製作水準的音樂作品更无可置疑。\n",
      "---------------\n",
      "Basketball is a team sport in which two teams, most commonly of five players each, opposing one another on a rectangular court, compete with the primary objective of shooting a basketball (approximately 9.4 inches (24 cm) in diameter) through the defender's hoop (a basket 18 inches (46 cm) in diameter mounted 10 feet (3.048 m) high to a backboard at each end of the court) while preventing the opposing team from shooting through their own hoop.\n",
      "---------------\n",
      "林百里（1949年4月24日－），是一位生於上海市的臺灣企業家，為廣達集團創辦人兼總裁、香港晶門科技前非執行主席。\n",
      "---------------\n",
      "臺北（臺灣話：Tâi-pak，俗體字書寫作台北）是臺灣的地理名詞，詞義為「臺灣之北」；原本指稱北臺灣，19世紀末臺北建城後，漸用於專指以此城池為中心發展的都市。「臺北」依照定義的不同涵蓋不同的範圍。狹義的行政區劃上指臺北市，廣義上則指亦可泛指臺北市及周邊衛星都市群相連而成的「首都圈」臺北都會區，包括臺北市、新北市、基隆市，人口約700多萬人，有的機構定義臺北都會區加桃園市所組成的臺北生活圈，人口超過920萬人，面積3678平方公里，為世界第50大都會區。\n",
      "---------------\n",
      "六福村主題遊樂園（簡稱六福村；英语：Leofoo Village Theme Park），是一座位於臺灣新竹縣關西鎮的主题公園。為六福開發旗下的企業之一。前身為1979年成立的六福村野生動物園，在1989年時開始規劃擴建成為主題樂園，於1994年開放第一個主題園區「美國大西部」。\n",
      "---------------\n",
      "《太陽的後裔》（韓語：태양의 후예，英语：Descendants Of The Sun）為韓國KBS自2016年2月24日起播出的水木連續劇，由宋慧喬、宋仲基、金智媛及晋久主演，人氣劇集編劇金銀淑、金元碩作家與導演李應福共同打造，本劇亦是金銀淑首次為KBS電視台編寫的電視作品。\n",
      "---------------\n",
      "柯文哲（英语：Ko Wen-je，1959年8月6日－），臺灣新竹市人，智商測得157，中華民國外科醫師、無黨籍政治人物，現任臺北市市長。國立臺灣大學醫學院臨床醫學研究所博士畢業，曾任臺大醫院急診部醫師、臺大醫院創傷醫學部主任、臺大醫學院教授，專長為外科重症醫學、器官移植 、人工器官等，是臺灣第一個急診與重症加護專職醫生，為臺灣器官標準移植程序的建立者，也是首位將葉克膜（ECMO）技術引進臺灣的醫師。\n"
     ]
    }
   ],
   "source": [
    "print wiki_query('baseball')\n",
    "print '---------------'\n",
    "print wiki_query('cup')\n",
    "print '---------------'\n",
    "print wiki_query('蔡依林')\n",
    "print '---------------'\n",
    "print wiki_query('basketball')\n",
    "print '---------------'\n",
    "print wiki_query('林百里')\n",
    "print '---------------'\n",
    "print wiki_query('臺北')\n",
    "print '---------------'\n",
    "print wiki_query('六福村')\n",
    "print '---------------'\n",
    "print wiki_query('太陽的後裔')\n",
    "print '---------------'\n",
    "print wiki_query('柯文哲')"
   ]
  },
  {
   "cell_type": "code",
   "execution_count": 87,
   "metadata": {},
   "outputs": [
    {
     "name": "stdout",
     "output_type": "stream",
     "text": [
      "redirect\n",
      "籃球是一個由兩隊參與，在一個長方形籃球場進行的球類運動，每隊出場5名隊员，可將球向任何方向傳、投、拍、滾或運，目的是將籃球投入對方球籃得分，並阻止對方獲得控球權或得分。\n",
      "---------------\n",
      "redirect\n",
      "王、忉利天（三十三天）、阎魔天、兜率天等诸天王，和天龙八部、神兵、四十圣众、道场神、华严神众等神现身并獲信仰等事，在《法华经》的灵山会上，天龙、乾闼婆、阿修罗等八部神集会时，其他的大乘经典神众也随之出现，因此「華嚴聖眾」也稱作「天龍八部」。\n"
     ]
    }
   ],
   "source": [
    "# 重定向問題\n",
    "print wiki_query('籃球')\n",
    "print '---------------'\n",
    "print wiki_query('天龍八部')"
   ]
  },
  {
   "cell_type": "code",
   "execution_count": 105,
   "metadata": {},
   "outputs": [],
   "source": [
    "def google_search(query):\n",
    "    if type(query) is not unicode:\n",
    "        query = query.decode('utf-8')\n",
    "        \n",
    "    # Google 搜尋 URL\n",
    "    google_url = 'https://www.google.com.tw/search'\n",
    "\n",
    "    # 查詢參數\n",
    "    my_params = {'q': query, 'lr':'lang_zh-TW'}\n",
    "\n",
    "    # 下載 Google 搜尋結果\n",
    "    r = requests.get(google_url, params = my_params)\n",
    "\n",
    "    # 確認是否下載成功\n",
    "    if r.status_code == requests.codes.ok:\n",
    "      # 以 BeautifulSoup 解析 HTML 原始碼\n",
    "      soup = BeautifulSoup(r.text, 'html.parser')\n",
    "\n",
    "      # 觀察 HTML 原始碼\n",
    "      # print(soup.prettify())\n",
    "\n",
    "      # 以 CSS 的選擇器來抓取 Google 的搜尋結果\n",
    "      items = soup.select('div.g > h3.r > a[href^=\"/url\"]')\n",
    "      for i in items[:5]:\n",
    "        # 標題\n",
    "        print(u\"標題：\" + i.text)\n",
    "        # 網址\n",
    "        print(u\"網址：\" + i.get('href').lstrip('/url?q='))"
   ]
  },
  {
   "cell_type": "code",
   "execution_count": 106,
   "metadata": {},
   "outputs": [
    {
     "name": "stdout",
     "output_type": "stream",
     "text": [
      "標題：如何自己學游泳2014.06.08更新 - 米達想想 - 痞客邦\n",
      "網址：http://win588stock.pixnet.net/blog/post/155758403-%25E6%25B8%25B8%25E6%25B3%25B3%25E4%25B9%259F%25E5%258F%25AF%25E4%25BB%25A5%25E8%2587%25AA%25E5%25B7%25B1%25E5%25AD%25B8!!!-%25E5%25A6%2582%25E4%25BD%2595%25E8%2587%25AA%25E5%25B7%25B1%25E5%25AD%25B8%25E6%25B8%25B8%25E6%25B3%25B32014.06.08&sa=U&ved=0ahUKEwjB0KiLjJXgAhUBOrwKHUp-DlEQFggWMAA&usg=AOvVaw3fqYytO_KjGbrAZR-dGqhd\n",
      "標題：[求助] 想學游泳要怎麼開始比較好呢？ - iPhone4.TW\n",
      "網址：https://iphone4.tw/forums/showthread.php%3Ft%3D92608&sa=U&ved=0ahUKEwjB0KiLjJXgAhUBOrwKHUp-DlEQFggdMAE&usg=AOvVaw0PvjpeG_PsnqyQ_fOT-QNz\n",
      "標題：幾歲開始學游泳最好？12個學游泳的關鍵問答/學前兒-玩中學/親子 ...\n",
      "網址：https://www.parenting.com.tw/article/5077041-%25E5%25B9%25BE%25E6%25AD%25B2%25E9%2596%258B%25E5%25A7%258B%25E5%25AD%25B8%25E6%25B8%25B8%25E6%25B3%25B3%25E6%259C%2580%25E5%25A5%25BD%25EF%25BC%259F12%25E5%2580%258B%25E5%25AD%25B8%25E6%25B8%25B8%25E6%25B3%25B3%25E7%259A%2584%25E9%2597%259C%25E9%258D%25B5%25E5%2595%258F%25E7%25AD%2594/&sa=U&ved=0ahUKEwjB0KiLjJXgAhUBOrwKHUp-DlEQFggnMAM&usg=AOvVaw3rHKWOTMKyFJVfp2OKFa6d\n",
      "標題：成年後才初學游泳的大家，你當初學多久？ - 游泳- 運動討論區- Mobile01\n",
      "網址：https://www.mobile01.com/topicdetail.php%3Ff%3D647%26t%3D5288942&sa=U&ved=0ahUKEwjB0KiLjJXgAhUBOrwKHUp-DlEQFggtMAQ&usg=AOvVaw2Ycvj32gzmpAKck54gwT4W\n",
      "標題：【丸鐵運動  教練專欄】怎麼學游泳？人可以一輩子不會游泳，卻不能 ...\n",
      "網址：http://www.jjnews.news/articles_view.php%3Feditid1%3D380&sa=U&ved=0ahUKEwjB0KiLjJXgAhUBOrwKHUp-DlEQFgg5MAU&usg=AOvVaw0i4tO3NGhHixE2LA9ONiu_\n"
     ]
    }
   ],
   "source": [
    "google_search('學游泳')"
   ]
  }
 ],
 "metadata": {
  "kernelspec": {
   "display_name": "Python 2",
   "language": "python",
   "name": "python2"
  },
  "language_info": {
   "codemirror_mode": {
    "name": "ipython",
    "version": 2
   },
   "file_extension": ".py",
   "mimetype": "text/x-python",
   "name": "python",
   "nbconvert_exporter": "python",
   "pygments_lexer": "ipython2",
   "version": "2.7.13"
  }
 },
 "nbformat": 4,
 "nbformat_minor": 2
}
